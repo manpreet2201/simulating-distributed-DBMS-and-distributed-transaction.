{
 "cells": [
  {
   "cell_type": "code",
   "execution_count": 105,
   "metadata": {},
   "outputs": [],
   "source": [
    "import mysql.connector\n",
    "\n",
    "conn1 = mysql.connector.connect(user='root', password='Chahal@123',\n",
    "                              host='127.0.0.1',\n",
    "                              database='Data5408',auth_plugin='mysql_native_password')\n",
    "conn2 = mysql.connector.connect(user='root', password='Chahal@123',\n",
    "                              host='34.95.5.59',\n",
    "                              database='Data5408',auth_plugin='mysql_native_password')\n",
    "conn3 = mysql.connector.connect(user='root', password='Chahal@123',\n",
    "                              host='127.0.0.1',\n",
    "                              database='Data5408',auth_plugin='mysql_native_password')\n",
    "conn4 = mysql.connector.connect(user='root', password='Chahal@123',\n",
    "                              host='34.95.5.59',\n",
    "                              database='Data5408',auth_plugin='mysql_native_password')\n",
    "\n"
   ]
  },
  {
   "cell_type": "code",
   "execution_count": 106,
   "metadata": {},
   "outputs": [],
   "source": [
    "import logging\n",
    "import threading\n",
    "\n",
    "\n",
    "def thread_function(name):\n",
    "    logging.info(\"Thread %s: starting\", name)\n",
    "    conn1.start_transaction()\n",
    "    conn2.start_transaction()\n",
    "    cursor1= conn1.cursor()\n",
    "    cursor2=conn2.cursor()\n",
    "    query1=\"Update customers_details  SET customer_city='xx City' where customer_zip_code_prefix = 01151;\"\n",
    "    cursor1.execute(query1);\n",
    "    print(\"Thread 1 query1 executed\")\n",
    "\n",
    "    query2=\"Update geolocation  SET geolocation_state= 'XY' where geolocation_zip_code_prefix=1037;\"\n",
    "    cursor1.execute(query2)\n",
    "    print(\"Thread 1 query2 executed\")\n",
    " \n",
    "    query3=\"Update product_category  SET product_category_name_english='abc' where product_category_name = 'beleza_saude'\"\n",
    "    cursor2.execute(query3)\n",
    "    print(\"Thread 1 query3 executed\")\n",
    "\n",
    "    query4=\"Update product_category SET product_category_name_english='def' where product_category_name = 'informatica_acessorios'\"\n",
    "    cursor2.execute(query4)\n",
    "    print(\"Thread 1 query4 executed\")\n",
    "    query5=\"Update sellers  SET seller_state='NS' where seller_zip_code_prefix = 13023 \"\n",
    "    cursor2.execute(query5)\n",
    "    print(\"Thread 1 query5 executed\")\n",
    "\n",
    "    \n",
    "    conn1.commit()\n",
    "    conn2.commit()\n",
    "    print(\"Transaction 1 committed\")\n",
    "    \n",
    "\n",
    "\n"
   ]
  },
  {
   "cell_type": "code",
   "execution_count": 107,
   "metadata": {},
   "outputs": [],
   "source": [
    "\n",
    "import logging\n",
    "import threading\n",
    "\n",
    "def thread_function1(name):\n",
    "    logging.info(\"Thread %s: starting\", name)\n",
    "    conn3.start_transaction()\n",
    "    conn4.start_transaction()\n",
    "    cursor1= conn3.cursor()\n",
    "    cursor2=conn4.cursor()\n",
    "    query1=\"Update customers_details  SET customer_city='Chandigarh City' where customer_zip_code_prefix = 01151;\"\n",
    "    cursor1.execute(query1);\n",
    "    print(\"Thread 2 query1 executed\")\n",
    "\n",
    "    query2=\"Update geolocation  SET geolocation_state= 'Canada' where geolocation_zip_code_prefix=1037;\"\n",
    "    cursor1.execute(query2)\n",
    "    print(\"Thread 2 query2 executed\")\n",
    " \n",
    "    query3=\"Update product_category  SET product_category_name_english='jkl' where product_category_name = 'beleza_saude'\"\n",
    "    cursor2.execute(query3)\n",
    "    print(\"Thread 2 query3 executed\")\n",
    "\n",
    "    query4=\"Update product_category SET product_category_name_english='mno' where product_category_name = 'informatica_acessorios'\"\n",
    "    cursor2.execute(query4)\n",
    "    print(\"Thread 2 query4 executed\")\n",
    "    \n",
    "    query5=\"Update sellers  SET seller_state='Ontario' where seller_zip_code_prefix=13023 \"\n",
    "    cursor2.execute(query5)\n",
    "    print(\"Thread 2 query5 executed\")\n",
    "    \n",
    "    conn3.commit()\n",
    "    conn4.commit()\n",
    "    print(\"Transcation T2 committed\")\n",
    "\n",
    "\n",
    "\n",
    "\n",
    "\n",
    "\n"
   ]
  },
  {
   "cell_type": "code",
   "execution_count": 108,
   "metadata": {},
   "outputs": [
    {
     "name": "stdout",
     "output_type": "stream",
     "text": [
      "Thread 1 query1 executed\n",
      "Thread 1 query2 executed\n",
      "Thread 1 query3 executed\n",
      "Thread 1 query4 executed\n",
      "Thread 1 query5 executed\n",
      "Thread 2 query1 executed\n",
      "Thread 2 query2 executed\n",
      "Transaction 1 committed\n",
      "Thread 2 query3 executed\n",
      "Thread 2 query4 executed\n",
      "Thread 2 query5 executed\n",
      "Transcation T2 committed\n"
     ]
    }
   ],
   "source": [
    "thread1 = threading.Thread(target=thread_function, args=(1,))\n",
    "thread2 = threading.Thread(target=thread_function1, args=(1,))\n",
    "thread1.start()\n",
    "thread2.start()"
   ]
  },
  {
   "cell_type": "code",
   "execution_count": null,
   "metadata": {},
   "outputs": [],
   "source": [
    "\n"
   ]
  },
  {
   "cell_type": "code",
   "execution_count": null,
   "metadata": {},
   "outputs": [],
   "source": []
  }
 ],
 "metadata": {
  "kernelspec": {
   "display_name": "Python 3",
   "language": "python",
   "name": "python3"
  },
  "language_info": {
   "codemirror_mode": {
    "name": "ipython",
    "version": 3
   },
   "file_extension": ".py",
   "mimetype": "text/x-python",
   "name": "python",
   "nbconvert_exporter": "python",
   "pygments_lexer": "ipython3",
   "version": "3.8.5"
  }
 },
 "nbformat": 4,
 "nbformat_minor": 4
}
