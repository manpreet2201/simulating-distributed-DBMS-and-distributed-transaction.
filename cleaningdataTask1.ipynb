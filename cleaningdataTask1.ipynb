{
 "cells": [
  {
   "cell_type": "code",
   "execution_count": 106,
   "metadata": {},
   "outputs": [
    {
     "data": {
      "text/plain": [
       "customer_id                 99441\n",
       "customer_unique_id          96096\n",
       "customer_zip_code_prefix    14994\n",
       "customer_city                4119\n",
       "customer_state                 27\n",
       "dtype: int64"
      ]
     },
     "execution_count": 106,
     "metadata": {},
     "output_type": "execute_result"
    }
   ],
   "source": [
    "import numpy as np\n",
    "import matplotlib.pyplot as plt\n",
    "import pandas as pd\n",
    "\n",
    "customers= pd.read_csv('olist_customers_dataset.csv')\n",
    "\n",
    "customers.nunique()\n"
   ]
  },
  {
   "cell_type": "code",
   "execution_count": 107,
   "metadata": {},
   "outputs": [],
   "source": [
    "customers=customers[:200]"
   ]
  },
  {
   "cell_type": "code",
   "execution_count": 108,
   "metadata": {},
   "outputs": [],
   "source": [
    "customers_details = customers[['customer_unique_id','customer_zip_code_prefix','customer_city','customer_state']]\n",
    "customers_details= customers_details.drop_duplicates()"
   ]
  },
  {
   "cell_type": "code",
   "execution_count": 112,
   "metadata": {},
   "outputs": [
    {
     "data": {
      "text/plain": [
       "geolocation_zip_code_prefix    200\n",
       "geolocation_lat                200\n",
       "geolocation_lng                200\n",
       "geolocation_city               200\n",
       "geolocation_state              200\n",
       "dtype: int64"
      ]
     },
     "execution_count": 112,
     "metadata": {},
     "output_type": "execute_result"
    }
   ],
   "source": [
    "geolocation= pd.read_csv('olist_geolocation_dataset.csv')\n",
    "geolocation=geolocation[:200]\n",
    "geolocation.nunique()\n",
    "geolocation.notnull().sum()"
   ]
  },
  {
   "cell_type": "code",
   "execution_count": 113,
   "metadata": {},
   "outputs": [],
   "source": [
    "orders_items=pd.read_csv('olist_order_items_dataset.csv')\n",
    "orders_items=orders[:200]\n"
   ]
  },
  {
   "cell_type": "code",
   "execution_count": 114,
   "metadata": {},
   "outputs": [],
   "source": [
    "payments=pd.read_csv('olist_order_payments_dataset.csv')\n",
    "payments=payments[:200]"
   ]
  },
  {
   "cell_type": "code",
   "execution_count": 115,
   "metadata": {},
   "outputs": [],
   "source": [
    "order_reviews=pd.read_csv('olist_order_reviews_dataset.csv')\n",
    "order_reviews=order_reviews[:200]"
   ]
  },
  {
   "cell_type": "code",
   "execution_count": 116,
   "metadata": {},
   "outputs": [],
   "source": [
    "orders=pd.read_csv('olist_orders_dataset.csv')\n",
    "orders=orders[:200]"
   ]
  },
  {
   "cell_type": "code",
   "execution_count": 117,
   "metadata": {},
   "outputs": [],
   "source": [
    "products=pd.read_csv('olist_products_dataset.csv'\n",
    "                    )\n",
    "products=products[:200]"
   ]
  },
  {
   "cell_type": "code",
   "execution_count": 118,
   "metadata": {},
   "outputs": [],
   "source": [
    "sellers=pd.read_csv('olist_sellers_dataset.csv')\n",
    "sellers=sellers[:200]"
   ]
  },
  {
   "cell_type": "code",
   "execution_count": 119,
   "metadata": {},
   "outputs": [],
   "source": [
    "product_category=pd.read_csv('product_category_name_translation.csv')\n",
    "product_category=product_category[:200]"
   ]
  },
  {
   "cell_type": "code",
   "execution_count": 120,
   "metadata": {},
   "outputs": [],
   "source": [
    "customers_details.to_csv(\"clean_data/customers_details.csv\")\n",
    "customers_orders_info.to_csv(\"clean_data/customers_orders_info.csv\")\n"
   ]
  },
  {
   "cell_type": "code",
   "execution_count": null,
   "metadata": {},
   "outputs": [],
   "source": [
    "geolocation.to_csv(\"clean_data/geolocation.csv\")\n",
    "orders_items.to_csv(\"clean_data/orders_items.csv\")\n",
    "payments.to_csv(\"clean_data/payments.csv\")\n"
   ]
  },
  {
   "cell_type": "code",
   "execution_count": null,
   "metadata": {},
   "outputs": [],
   "source": [
    "order_reviews.to_csv(\"clean_data/order_reviews.csv\")\n",
    "orders.to_csv(\"clean_data/orders.csv\")\n",
    "products.to_csv(\"clean_data/products.csv\")\n",
    "sellers.to_csv(\"clean_data/sellers.csv\")\n",
    "product_category.to_csv(\"clean_data/product_category.csv\")"
   ]
  },
  {
   "cell_type": "code",
   "execution_count": null,
   "metadata": {},
   "outputs": [],
   "source": []
  }
 ],
 "metadata": {
  "kernelspec": {
   "display_name": "Python 3",
   "language": "python",
   "name": "python3"
  },
  "language_info": {
   "codemirror_mode": {
    "name": "ipython",
    "version": 3
   },
   "file_extension": ".py",
   "mimetype": "text/x-python",
   "name": "python",
   "nbconvert_exporter": "python",
   "pygments_lexer": "ipython3",
   "version": "3.8.5"
  }
 },
 "nbformat": 4,
 "nbformat_minor": 4
}
